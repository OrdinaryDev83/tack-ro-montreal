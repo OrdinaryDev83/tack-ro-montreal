{
 "cells": [
  {
   "cell_type": "code",
   "execution_count": null,
   "id": "ffd0d8a0",
   "metadata": {},
   "outputs": [],
   "source": []
  },
  {
   "cell_type": "code",
   "execution_count": 1,
   "id": "14562a88",
   "metadata": {},
   "outputs": [
    {
     "ename": "ImportError",
     "evalue": "attempted relative import with no known parent package",
     "output_type": "error",
     "traceback": [
      "\u001b[1;31m---------------------------------------------------------------------------\u001b[0m",
      "\u001b[1;31mImportError\u001b[0m                               Traceback (most recent call last)",
      "\u001b[1;32mc:\\Users\\Tom\\Desktop\\tack-ro-montreal\\tack-ro-montreal\\Demo.ipynb Cell 2'\u001b[0m in \u001b[0;36m<cell line: 2>\u001b[1;34m()\u001b[0m\n\u001b[0;32m      <a href='vscode-notebook-cell:/c%3A/Users/Tom/Desktop/tack-ro-montreal/tack-ro-montreal/Demo.ipynb#ch0000000?line=0'>1</a>\u001b[0m \u001b[39mfrom\u001b[39;00m \u001b[39mturtle\u001b[39;00m \u001b[39mimport\u001b[39;00m pos\n\u001b[1;32m----> <a href='vscode-notebook-cell:/c%3A/Users/Tom/Desktop/tack-ro-montreal/tack-ro-montreal/Demo.ipynb#ch0000000?line=1'>2</a>\u001b[0m \u001b[39mfrom\u001b[39;00m \u001b[39m.\u001b[39;00m\u001b[39mpractical\u001b[39;00m\u001b[39m.\u001b[39;00m\u001b[39mtheoric\u001b[39;00m \u001b[39mimport\u001b[39;00m \u001b[39m*\u001b[39m\n\u001b[0;32m      <a href='vscode-notebook-cell:/c%3A/Users/Tom/Desktop/tack-ro-montreal/tack-ro-montreal/Demo.ipynb#ch0000000?line=2'>3</a>\u001b[0m \u001b[39mfrom\u001b[39;00m \u001b[39m.\u001b[39;00m\u001b[39mpractical\u001b[39;00m\u001b[39m.\u001b[39;00m\u001b[39mutils\u001b[39;00m \u001b[39mimport\u001b[39;00m \u001b[39m*\u001b[39m\n\u001b[0;32m      <a href='vscode-notebook-cell:/c%3A/Users/Tom/Desktop/tack-ro-montreal/tack-ro-montreal/Demo.ipynb#ch0000000?line=3'>4</a>\u001b[0m \u001b[39mimport\u001b[39;00m \u001b[39mmatplotlib\u001b[39;00m\u001b[39m.\u001b[39;00m\u001b[39mpyplot\u001b[39;00m \u001b[39mas\u001b[39;00m \u001b[39mplt\u001b[39;00m\n",
      "\u001b[1;31mImportError\u001b[0m: attempted relative import with no known parent package"
     ]
    }
   ],
   "source": [
    "from turtle import pos\n",
    "from practical.theoric import *\n",
    "from practical.utils import *\n",
    "import matplotlib.pyplot as plt\n",
    "import osmnx.distance as distance\n",
    "import os.path\n",
    "from practical.data import *"
   ]
  },
  {
   "cell_type": "markdown",
   "id": "2a90ffa4",
   "metadata": {},
   "source": [
    "# Projet RO - Optimisation Hivernale\n",
    "Dans ce projet, nous allons comprendre comment optimiser le déneigement de la ville de Montréal.\n",
    "\n",
    "Cette démonstration comporte 3 parties:\n",
    "* Analyse du problème\n",
    "* Parcours du Drone\n",
    "    * Théorie\n",
    "    * Pratique\n",
    "* Parcours de la Déneigeuse\n",
    "    * Théorie\n",
    "    * Pratique\n",
    "* Modèle de Coût\n",
    "* Conclusion"
   ]
  },
  {
   "cell_type": "markdown",
   "id": "54b547fe",
   "metadata": {},
   "source": [
    "Nous allons commencer par définir le vocabulaire que nous utiliserons dans ce notebook :\n",
    "\n",
    "* Un node : un nœud du graphe\n",
    "* Un edge : l’axe qui relie deux node entre eux\n",
    "\n",
    "En première partie nous allons nous occuper du trajet du drone. Pour cela nous considérons donc un graphe non orienté car le drone n’a pas besoin de suivre le sens de la circulation (et que c’est plus simple !). Nous sommes partis du principe que notre graphe est connexe. En effet, si toutes les rues d’une ville ne sont pas reliées ce n’est pas une ville… Nous parcourons donc le graphe avec le drone. Nous envoyons un drone survoler les rues pour savoir combien de centimètres de neige il y a sur chaque rue. Cela va nous servir pour définir les rues prioritaires au déneigement.\n",
    "\n",
    "\n"
   ]
  },
  {
   "cell_type": "markdown",
   "id": "6c0a5678",
   "metadata": {},
   "source": [
    "Une fois que le parcours du graphe par le drone est acté, nous pouvons passer au parcours de la déneigeuse. Celle-ci doit en revanche suivre les sens de circulation, nous allons donc avoir besoin d’un graphe orienté. Nous allons à partir d’ici utiliser la bibliothèque OSMNX qui nous permet de transformer n’importe quel plan de ville en graphe orienté grâce à l’attribut graph_from_place(). Nous devons ajouter le paramètre « drive » car la vitesse de déplacement de la déneigeuse se rapproche plus de celle d’une voiture que de celle d’un passant. \n"
   ]
  },
  {
   "cell_type": "markdown",
   "id": "dc2b2df9",
   "metadata": {},
   "source": [
    "\n",
    "A partir de ce graphe, nous allons créer un graphe Eulérien. Pourquoi ? Parce que cela permet de passer par toutes les routes du graphe d’un seul coup sans passer des points plusieurs fois, en somme ça nous permet d’optimiser notre solution. Comment ? Nous allons assigner une balance à chaque node. +1 pour chaque edge sortant -1 pour chaque edge entrant. Exemple avec ce graphe simple :"
   ]
  },
  {
   "cell_type": "markdown",
   "id": "2b189023",
   "metadata": {},
   "source": [
    "![alt text](images/balances.png)"
   ]
  },
  {
   "cell_type": "markdown",
   "id": "b203ed6a",
   "metadata": {},
   "source": [
    "Pour un graphe orienté, il faut que toutes les balances soient nulles. On parcourt donc le graphe et à chaque balance non nulle, on ajoute des edges entrants ou sortants selon nos besoins. La fonction Distance de la librairie OSMNX nous permet d’ajouter la longueur des rues (ou des edges) en mètres sur le graphe. \n"
   ]
  },
  {
   "cell_type": "markdown",
   "id": "a9fa4a10",
   "metadata": {},
   "source": [
    "![alt text](images/balances_euler.png)"
   ]
  },
  {
   "cell_type": "markdown",
   "id": "699ad3da",
   "metadata": {},
   "source": [
    "Ensuite, pour rendre tout cela plus visuel et plus attractif, on va afficher le graphe à l’écran à l’aide de la fonction plot_graph. Sur cet exemple, la ville est petite et on a donc besoin de faire qu’une seule requête au système afin d’afficher et d’utiliser le graphe. En revanche, pour Montréal, nous devrons faire une dizaine de requêtes de part la taille de la ville (une par qartier en fait). Il faudra néanmoins faire attention car si on lance plusieurs requêtes en moins d’une seconde, on est \"banni\" du système pendant 60 secondes."
   ]
  },
  {
   "cell_type": "markdown",
   "id": "c5e2ded1",
   "metadata": {},
   "source": [
    "![alt text](images/stras_maps.png \"Strasbourg vue aérienne\")"
   ]
  },
  {
   "cell_type": "code",
   "execution_count": 6,
   "id": "1bcdaa93",
   "metadata": {},
   "outputs": [],
   "source": [
    "district = \"Strasbourg\"\n",
    "\n",
    "# get the data from the district (arrondissement)\n",
    "def getData(district):\n",
    "    data = ox.graph_from_place(district + \"France\", network_type=\"drive\")\n",
    "    data = distance.add_edge_lengths(data)\n",
    "    return data\n",
    "\n",
    "# show the data (not a graph)\n",
    "def plot_data(data):\n",
    "    plt.clf()\n",
    "    fig, ax = ox.plot_graph(data, save=False, show=True, dpi=1000)\n"
   ]
  },
  {
   "cell_type": "markdown",
   "id": "6c4d67fc",
   "metadata": {},
   "source": [
    "Ce graphe n’est pas exploitable avec nos fonctions, qui elles sont compatibles avec la class Graph que nous avons construite, beaucoup plus simple et compréhensible. Nous devons donc transformer ce graphe et le rediriger vers une forme qui correspond aux attentes de nos fonctions. Cette action est possible grâce à la fonction undirectedgraphmxgraph_to_graph."
   ]
  },
  {
   "cell_type": "code",
   "execution_count": null,
   "id": "d200fcdb",
   "metadata": {},
   "outputs": [],
   "source": [
    "directedNxGraph = extract_directed_graph(data)\n",
    "\n",
    "def directed_nxgraph_to_graph(nxGraph):\n",
    "    graph = Graph(len(nxGraph), None, False)\n",
    "    graph.edges = []\n",
    "    \n",
    "    nodes = {}\n",
    "    index = 0\n",
    "    for node in nxGraph.nodes:\n",
    "        nodes[node] = index\n",
    "        index += 1\n",
    "    nodes\n",
    "\n",
    "    length = nx.get_edge_attributes(nxGraph, \"length\")\n",
    "    \n",
    "    edges = []\n",
    "    for edge in nxGraph.edges:\n",
    "        node1 = nodes[edge[0]]\n",
    "        node2 = nodes[edge[1]]\n",
    "        weight = length[edge]\n",
    "        edges.append((node1, node2, weight))\n",
    "    \n",
    "    graph.edges = edges\n",
    "        \n",
    "    return graph, nodes\n",
    "\n",
    "G, G_nodes = directed_nxgraph_to_graph(directedNxGraph)"
   ]
  },
  {
   "cell_type": "markdown",
   "id": "bdd9b683",
   "metadata": {},
   "source": [
    "Sur cette version simplifiée, on applique nos fonction théoriques, celles qui le parcourent, lui affectent des attributs de poids et de tailles... \n",
    "On parcourt donc le graphe et on attribue à chaque edge deux attributs : son « weight », sa taille en m calculée plus tard et sa « snow » qui est le taux de neige qui se trouve sur cette rue. Ce taux de neige en cm est calculé grâce à une courbe Gaussienne, qui nous permet d'obtenir une \"chance\" de 95% d'obtenir de la neige sur une rue."
   ]
  },
  {
   "cell_type": "code",
   "execution_count": null,
   "id": "f78059ea",
   "metadata": {},
   "outputs": [],
   "source": [
    "print(\"snow avant averse : \", G.snow)\n",
    "\n",
    "def add_random_snow(self):\n",
    "    for edge in self.edges:\n",
    "        s = np.random.normal((2.5 + 15.0) / 2.0, 3.189) # 95% de chance d'avoir de la neige\n",
    "        if s > 50:\n",
    "            s = 50\n",
    "        elif s < 0:\n",
    "            s = 0\n",
    "        self.snow[edge] = s\n",
    "\n",
    "G.add_random_snow()\n",
    "\n",
    "print(\"snow apres averse : \", G.snow)"
   ]
  },
  {
   "cell_type": "markdown",
   "id": "c7258a14",
   "metadata": {},
   "source": [
    "On peut à présent afficher le graphe contenant la neige. Nous avons choisi d'afficher un trait plus épais et plus blanc pour une rue pleine de neige, et un trait plus fin et donc plus transparent pour une rue contenant une proportion moindre de neige."
   ]
  },
  {
   "cell_type": "code",
   "execution_count": null,
   "id": "6cba1be9",
   "metadata": {},
   "outputs": [],
   "source": [
    "def plot_snow(G, graph, position):\n",
    "    options = {\n",
    "    \"node_size\": 2,\n",
    "    \"arrowsize\": 3,\n",
    "    \"min_source_margin\": 1,\n",
    "    \"pos\": position\n",
    "    }\n",
    "\n",
    "    edge_color = []\n",
    "    i = 0\n",
    "    for edge in G.edges:\n",
    "        snow = G.snow[edge]\n",
    "        edge_clr = snow / 15\n",
    "        if edge_clr > 1.0:\n",
    "            edge_clr = 1.0\n",
    "        edge_color.append((edge_clr, edge_clr, edge_clr))\n",
    "        i += 1\n",
    "\n",
    "    fig = plt.figure()\n",
    "    nx.draw(graph, edge_color=edge_color, width=1, **options)\n",
    "    fig.set_facecolor(\"#00000F\")\n",
    "    ##plt.savefig(\"imgs/\" + name + \"/\" + name + \"_\" + subname + \"_snow.png\", dpi=1000)\n",
    "\n",
    "position = get_position(directedNxGraph)\n",
    "\n",
    "plot_snow(G, directedNxGraph, position)"
   ]
  },
  {
   "cell_type": "markdown",
   "id": "ad3478c7",
   "metadata": {},
   "source": [
    "Une fois tous ces calculs effectués, on va enlever de notre graphe les rues qui ne contiennent pas une quantité de neige suffisante pour faire se déplacer une déneigeuse. Cela nous permettra d'obtenir à la fin seulement le parcours de la déneigeuse, sans passage superflu. "
   ]
  },
  {
   "cell_type": "code",
   "execution_count": null,
   "id": "33610ae8",
   "metadata": {},
   "outputs": [],
   "source": [
    "def remove_unsnowy(self):\n",
    "        if self.directed == False:\n",
    "            bridges = find_bridges_undirected(self.adj_list())\n",
    "            if bridges == None:\n",
    "                return\n",
    "            for b in bridges:\n",
    "                if b == None:\n",
    "                    continue\n",
    "                b1, b2 = b\n",
    "                if ((b1, b2) in self.snow and self.snow[(b1, b2)] < 2.5):\n",
    "                    continue\n",
    "                elif ((b2, b1) in self.snow and self.snow[(b2, b1)] < 2.5):\n",
    "                    continue\n",
    "\n",
    "                w = 0\n",
    "                for (a, b, w) in self.edges:\n",
    "                    if (a == b1 and a == b2) or (a == b2 and a == b1):\n",
    "                        self.edges.remove((a, b, w))\n",
    "\n",
    "G.remove_unsnowy()\n",
    "G.eulerize()\n",
    "# find an eulerian cycle in a directed graph\n",
    "cycle_directed, weight_directed = find_eulerian_cycle_directed(G.n, G.edges, 0)\n",
    "\n",
    "# convert the node list to a directed graph (cycle graph)\n",
    "G_cycle_directed = directed_graph_from_cycle(G.n, cycle_directed)\n",
    "\n",
    "# convert it back to a nxgraph to plot it\n",
    "E = directed_graph_to_nxgraph(G)\n",
    "\n"
   ]
  },
  {
   "cell_type": "markdown",
   "id": "c342a360",
   "metadata": {},
   "source": [
    "Et ça nous permet d’afficher cela :"
   ]
  },
  {
   "cell_type": "code",
   "execution_count": null,
   "id": "3f65b0c9",
   "metadata": {},
   "outputs": [],
   "source": [
    "plot_cycle(name, \"directed_cycle\", directedNxGraph, G_cycle_directed, E, G_nodes)"
   ]
  },
  {
   "cell_type": "markdown",
   "id": "bf3d4e8c",
   "metadata": {},
   "source": [
    "Afin d’avoir une idée du coût du déneigement total de Montréal, nous avons choisi de mesurer trois indicateurs : le temps + coût en carburant pour une seule déneigeuse, pour une déneigeuse pour 2 quartiers et enfin pour une déneigeuse par quartier."
   ]
  },
  {
   "cell_type": "markdown",
   "id": "264c9302",
   "metadata": {},
   "source": [
    "cout1\n",
    "cout2\n",
    "cout3"
   ]
  },
  {
   "cell_type": "markdown",
   "id": "f9050f68",
   "metadata": {},
   "source": [
    "\n",
    "On peut clairement voir que le coût est moindre lorsque l’on a une déneigeuse par quartier, ce qui paraît logique. La déneigeuse seule met beaucoup trop de temps et le Soleil irait bien plus vite pour faire disparaître toute cette neige. Enfin la troisième solution, une déneigeuse pour deux quartiers, est efficace mais un peu lente et certains quartiers pourraient se retrouver défavoriser par rapport à d’autres. Il faudrait alors déneiger de nuit, et nous ne sommes pas sûrs que les déneigeurs québécois acceptent ces dures conditions de travail.\n"
   ]
  },
  {
   "cell_type": "markdown",
   "id": "9921a2ee",
   "metadata": {},
   "source": [
    "Pour arriver à ce travail final, nous sommes passés par plusieurs étapes et plusieurs cul de sac... Voici un petit tableau récapitulatif des techniques que nous avons testées, des résultats que nous avons obtenus grâce à ces dernières mais surtout de leurs limites."
   ]
  },
  {
   "cell_type": "markdown",
   "id": "60c79968",
   "metadata": {},
   "source": [
    "![alt text](images/tableau.png \"Tableau récapitulatif de nos essais\")"
   ]
  }
 ],
 "metadata": {
  "kernelspec": {
   "display_name": "Python 3.10.4 64-bit",
   "language": "python",
   "name": "python3"
  },
  "language_info": {
   "codemirror_mode": {
    "name": "ipython",
    "version": 3
   },
   "file_extension": ".py",
   "mimetype": "text/x-python",
   "name": "python",
   "nbconvert_exporter": "python",
   "pygments_lexer": "ipython3",
   "version": "3.10.4"
  },
  "vscode": {
   "interpreter": {
    "hash": "722b6f501d3291d098eeb116c55030d7476387c4156a20534e17b28f07582bab"
   }
  }
 },
 "nbformat": 4,
 "nbformat_minor": 5
}
