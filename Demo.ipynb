{
 "cells": [
  {
   "cell_type": "markdown",
   "id": "2a90ffa4",
   "metadata": {},
   "source": [
    "# Projet RO - Optimisation Hivernale\n",
    "Dans ce projet, nous allons comprendre comment optimiser le déneigement de la ville de Montréal.\n",
    "\n",
    "Cette démonstration comporte 3 parties:\n",
    "* Analyse du problème\n",
    "* Parcours du Drone\n",
    "    * Théorie\n",
    "    * Pratique\n",
    "* Parcours de la Déneigeuse\n",
    "    * Théorie\n",
    "    * Pratique\n",
    "* Modèle de Coût\n",
    "* Conclusion"
   ]
  },
  {
   "cell_type": "code",
   "execution_count": null,
   "id": "a4d10a76",
   "metadata": {},
   "outputs": [],
   "source": []
  }
 ],
 "metadata": {
  "kernelspec": {
   "display_name": "Python 3 (ipykernel)",
   "language": "python",
   "name": "python3"
  },
  "language_info": {
   "codemirror_mode": {
    "name": "ipython",
    "version": 3
   },
   "file_extension": ".py",
   "mimetype": "text/x-python",
   "name": "python",
   "nbconvert_exporter": "python",
   "pygments_lexer": "ipython3",
   "version": "3.8.10"
  }
 },
 "nbformat": 4,
 "nbformat_minor": 5
}
