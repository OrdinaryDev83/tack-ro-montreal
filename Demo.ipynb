{
 "cells": [
  {
   "cell_type": "markdown",
   "id": "2a90ffa4",
   "metadata": {},
   "source": [
    "# Projet RO - Optimisation Hivernale\n",
    "Dans ce projet, nous allons comprendre comment optimiser le déneigement de la ville de Montréal.\n",
    "\n",
    "Cette démonstration comporte 3 parties:\n",
    "* Analyse du problème\n",
    "* Parcours du Drone\n",
    "    * Théorie\n",
    "    * Pratique\n",
    "* Parcours de la Déneigeuse\n",
    "    * Théorie\n",
    "    * Pratique\n",
    "* Modèle de Coût\n",
    "* Conclusion"
   ]
  },
  {
   "cell_type": "markdown",
   "id": "54b547fe",
   "metadata": {},
   "source": [
    "Nous allons commencer par définir le vocabulaire que nous utiliserons dans ce notebook :\n",
    "\n",
    "* Un node : un nœud du graphe\n",
    "* Un edge : l’axe qui relie deux node entre eux\n",
    "\n",
    "En première partie nous allons nous occuper du trajet du drone. Pour cela nous considérons donc un graphe non orienté car le drone n’a pas besoin de suivre le sens de la circulation (et que c’est plus simple !). Nous avons aussi imaginé une fonction qui vérifie si un graphe est connexe. En effet, si toutes les rues d’une ville ne sont pas reliées ce n’est pas une ville… \n",
    "\n",
    "\n"
   ]
  },
  {
   "cell_type": "code",
   "execution_count": 1,
   "id": "53714cb5",
   "metadata": {},
   "outputs": [
    {
     "name": "stdout",
     "output_type": "stream",
     "text": [
      "hello\n"
     ]
    }
   ],
   "source": [
    "# ici fonction qui à partir d'un graphe vérifie s'il est connexe, le lancer avec 2 graphes, l'un connexe, l'autre non"
   ]
  },
  {
   "cell_type": "markdown",
   "id": "6c0a5678",
   "metadata": {},
   "source": [
    "Une fois que le parcours du graphe par le drone est acté, nous pouvons passer au parcours de la déneigeuse. Celle-ci doit en revanche suivre les sens de circulation, nous allons donc avoir besoin d’un graphe orienté. Nous allons à partir d’ici utiliser la bibliothèque OSMNX qui nous permet de transformer n’importe quel plan de ville en graphe orienté grâce à l’attribut graph_from_place. Nous devons ajouter le paramètre « drive » car la vitesse de déplacement de la déneigeuse se rapproche plus de celle d’une voiture que de celle d’un passant. \n",
    "\n",
    "A partir de ce graphe, nous allons créer un graphe Eulérien. Pourquoi ? Parce que cela permet de passer par toutes les routes du graphe d’un seul coup sans passer des points plusieurs fois, en somme ça nous permet d’optimiser notre solution. Comment ? Nous allons assigner une balance à chaque node. +1 pour chaque edge sortant -1 pour chaque edge entrant. Exemple avec ce graphe simple :"
   ]
  },
  {
   "cell_type": "markdown",
   "id": "2b189023",
   "metadata": {},
   "source": [
    "![alt text](images/balances.png)"
   ]
  },
  {
   "cell_type": "markdown",
   "id": "b203ed6a",
   "metadata": {},
   "source": [
    "Pour un graphe orienté, il faut que toutes les balances soient nulles. On parcourt donc le graphe et à chaque balance non nulle, on ajoute des edges entrants ou sortants selon nos besoins. La fonction Distance de la librairie OSMNX nous permet d’ajouter la longueur des rues (ou des edges) en mètres sur le graphe. \n"
   ]
  },
  {
   "cell_type": "markdown",
   "id": "a9fa4a10",
   "metadata": {},
   "source": [
    "![alt text](images/balances_euler.png)"
   ]
  },
  {
   "cell_type": "markdown",
   "id": "699ad3da",
   "metadata": {},
   "source": [
    "Ensuite, pour rendre tout cela plus visuel et plus attractif, on va afficher le graphe à l’écran à l’aide de la fonction plot_graph. Sur cet exemple, la ville est petite et on a donc besoin de faire qu’une seule requête au système afin d’afficher et d’utiliser le graphe. En revanche, pour Montréal, nous devrons faire une dizaine de requêtes de part la taille de la ville. Il faudra néanmoins faire attention car si on lance plusieurs requêtes en moins d’une seconde, on est banni du système pendant 60 secondes."
   ]
  },
  {
   "cell_type": "markdown",
   "id": "c5e2ded1",
   "metadata": {},
   "source": [
    "![alt text](images/stras_maps.png \"Strasbourg vue aérienne\")"
   ]
  },
  {
   "cell_type": "code",
   "execution_count": null,
   "id": "1bcdaa93",
   "metadata": {},
   "outputs": [],
   "source": [
    "#ici afficher la fonction qui affiche les villes avec mnpx jsp quoi la et afficher axactement cette partie de strasbourg \n",
    "#(si pas possible alors je prendrai un screen plus grand de gg maps)"
   ]
  },
  {
   "cell_type": "markdown",
   "id": "6c4d67fc",
   "metadata": {},
   "source": [
    "Ce graphe n’est pas exploitable avec nos fonctions, qui elles sont compatibles avec la class Graph que nous avons construite, beaucoup plus simple et compréhensible. Nous devons donc transformer ce graphe et le rediriger vers une forme qui correspond aux attentes de nos fonctions. Cette action est possible grâce à la fonction undirectedgraphmxgraph_to_graph."
   ]
  },
  {
   "cell_type": "code",
   "execution_count": null,
   "id": "d200fcdb",
   "metadata": {},
   "outputs": [],
   "source": [
    "# ici mettre la fonction qui convertit le graph omnx en graph normal, puis afficher le graphe normal de strasbourg"
   ]
  },
  {
   "cell_type": "markdown",
   "id": "bdd9b683",
   "metadata": {},
   "source": [
    "Sur cette version simplifiée, on applique nos fonction théoriques, celles qui le parcourent, lui affectent des attributs de poids et de tailles... \n",
    "On parcourt donc le graphe et on attribue à chaque edge deux attributs : son « weight », sa taille en m calculée plus tard et sa « snow » qui est le pourcentage de rue recouverte par la neige. "
   ]
  },
  {
   "cell_type": "code",
   "execution_count": null,
   "id": "f78059ea",
   "metadata": {},
   "outputs": [],
   "source": [
    "# ici afficher la fonction qui parcourt le graph et qui construit le tableau [node1, node2, weight, snow]"
   ]
  },
  {
   "cell_type": "markdown",
   "id": "ad3478c7",
   "metadata": {},
   "source": [
    "Une fois tous ces calculs effectués, on remet le graph sous sa forme originelle grâce à cette fonction :"
   ]
  },
  {
   "cell_type": "code",
   "execution_count": null,
   "id": "33610ae8",
   "metadata": {},
   "outputs": [],
   "source": [
    "# ici afficher lafonction qui remet le graph sous sa forme originelle sans afficher d'image, juste la fonction"
   ]
  },
  {
   "cell_type": "markdown",
   "id": "c342a360",
   "metadata": {},
   "source": [
    "Et ça nous permet d’afficher cela :"
   ]
  },
  {
   "cell_type": "code",
   "execution_count": null,
   "id": "3f65b0c9",
   "metadata": {},
   "outputs": [],
   "source": [
    "# ici photo du graphe avec neige dessus"
   ]
  },
  {
   "cell_type": "markdown",
   "id": "bf3d4e8c",
   "metadata": {},
   "source": [
    "Afin d’avoir une idée du coût du déneigement total de Montréal, nous avons choisi de mesurer trois indicateurs : le temps + coût en carburant pour une seule déneigeuse, pour une déneigeuse pour 2 quartiers et enfin pour une déneigeuse par quartier."
   ]
  },
  {
   "cell_type": "markdown",
   "id": "264c9302",
   "metadata": {},
   "source": [
    "cout1\n",
    "cout2\n",
    "cout3"
   ]
  },
  {
   "cell_type": "markdown",
   "id": "f9050f68",
   "metadata": {},
   "source": [
    "\n",
    "On peut clairement voir que le coût est moindre lorsque l’on a une déneigeuse par quartier, ce qui paraît logique. La déneigeuse seule met beaucoup trop de temps et le Soleil irait bien plus vite pour faire disparaître toute cette neige. Enfin la troisième solution, une déneigeuse pour deux quartiers, est efficace mais un peu lente et certains quartiers pourraient se retrouver défavoriser par rapport à d’autres. Il faudrait alors déneiger de nuit, et nous ne sommes pas sûrs que les déneigeurs québécois acceptent ces dures conditions de travail.\n"
   ]
  },
  {
   "cell_type": "markdown",
   "id": "9921a2ee",
   "metadata": {},
   "source": [
    "Pour arriver à ce travail final, nous sommes passés par plusieurs étapes et plusieurs cul de sac... Voici un petit tableau récapitulatif des techniques que nous avons testées, des résultats que nous avons obtenus grâce à ces dernières mais surtout de leurs limites."
   ]
  },
  {
   "cell_type": "markdown",
   "id": "60c79968",
   "metadata": {},
   "source": [
    "![alt text](images/tableau.png \"Tableau récapitulatif de nos essais\")"
   ]
  }
 ],
 "metadata": {
  "kernelspec": {
   "display_name": "Python 3.9.12 ('base')",
   "language": "python",
   "name": "python3"
  },
  "language_info": {
   "codemirror_mode": {
    "name": "ipython",
    "version": 3
   },
   "file_extension": ".py",
   "mimetype": "text/x-python",
   "name": "python",
   "nbconvert_exporter": "python",
   "pygments_lexer": "ipython3",
   "version": "3.9.12"
  },
  "vscode": {
   "interpreter": {
    "hash": "48e195ca9c15e90f1017d712b1c0cf1d51a902a25d2e58550c42e9a33c111ed2"
   }
  }
 },
 "nbformat": 4,
 "nbformat_minor": 5
}
